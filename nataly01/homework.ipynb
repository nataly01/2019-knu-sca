{
 "cells": [
  {
   "cell_type": "code",
   "execution_count": 66,
   "metadata": {},
   "outputs": [],
   "source": [
    "import numpy as np\n",
    "import matplotlib.pyplpt as plt        \n",
    "from numpy.fft import fft, ifft     \n",
    "import random\n",
    "%matplotlib inline\n",
    "\n",
    "funcs_amount = 3    \n",
    "noises_amount = 4  \n",
    "\n",
    "NpFunctions = [(np.sin, 'sin'), (np.sin, 'sin')]\n",
    "   \n",
    "      "
   ]
  },
  {
   "cell_type": "code",
   "execution_count": 67,
   "metadata": {},
   "outputs": [],
   "source": [
    "def random_func():\n",
    "   \n",
    "    tmp_func, tmp_func_name = NpFunctions[random.randint(0, 100) % 2]  \n",
    "    a = random.randint(0, 10)     \n",
    "    phi = random.uniform(0, 1.5)        \n",
    "    r = random.randint(0, 10)           \n",
    "    \n",
    "    \n",
    "    def res_func(x):       \n",
    "        return a * tmp_func(2 * np.pi * phi * x + r)\n",
    "    \n",
    "    \n",
    "    res_func.__doc__ = '{:0.1f}{}(2pi * {:0.2f}x + {})'.format(a, tmp_func_name, phi, r)\n",
    "\n",
    "    return res_func"
   ]
  },
  {
   "cell_type": "code",
   "execution_count": 68,
   "metadata": {},
   "outputs": [],
   "source": [
    "def random_noise():\n",
    "    \"\"\" Create random trigonometric function with hight frequency (noise)\n",
    "    \"\"\"\n",
    "    tmp_func, tmp_func_name = NpFunctions[random.randint(0, 100) % 2] \n",
    "    a = random.uniform(0, 5)           \n",
    "    phi = random.uniform(5, 10)        \n",
    "    \n",
    "    print('{:0.1f}{}(2pi * {:0.2f}x)'.format(a, tmp_func_name, phi))\n",
    "    return _a * tmp_func(2 * np.pi * x * phi)"
   ]
  },
  {
   "cell_type": "code",
   "execution_count": 69,
   "metadata": {},
   "outputs": [
    {
     "name": "stdout",
     "output_type": "stream",
     "text": [
      "generated function: f(x) = 2.0sin(2pi * 0.98x + 0) + 5.0sin(2pi * 1.44x + 2) + 7.0sin(2pi * 0.27x + 1)\n",
      "\n",
      "noises:\n",
      "2.8sin(2pi * 7.41x)\n",
      "3.0sin(2pi * 7.24x)\n",
      "1.3sin(2pi * 7.32x)\n",
      "4.6sin(2pi * 9.78x)\n"
     ]
    }
   ],
   "source": [
    "functions = []                         \n",
    "label = 'f(x) = '                     \n",
    "\n",
    "for j in range(funcs_amount):\n",
    "    tmp_function = random_func()      \n",
    "    functions.append(tmp_function)\n",
    "    label += tmp_function.__doc__ + ' + '\n",
    "\n",
    "print('generated function: {}'.format(label.strip(' + ')))\n",
    "\n",
    "print('\\nnoises:')\n",
    "\n",
    "functions += [random_noise() for j in range(noises_amount)]   "
   ]
  },
  {
   "cell_type": "code",
   "execution_count": 70,
   "metadata": {},
   "outputs": [],
   "source": [
    "def cleaning(func, a, b, n):\n",
    " \n",
    "    x = np.linspace(a, b, n)       \n",
    "    y = func(x)\n",
    "    \n",
    "    if __name__ == '__main__':\n",
    "        n = int(input('n: '))\n",
    "        a = float(input('a: '))\n",
    "        b = float(input('b: '))\n",
    "    ENOUGH = 100\n",
    "\n",
    "\n",
    "    ft_y = fft(y)                   \n",
    "    plt.plot(x, y, 'input data')    \n",
    "    plt.plot(x, abs(ft_y), \"Fourier transform of data\")\n",
    "    \n",
    "    \n",
    "    res = ifft(list(ft_y[:ENOUGH]) + list(np.zeros(n-ENOUGH))) \n",
    "    return x, res"
   ]
  },
  {
   "cell_type": "code",
   "execution_count": null,
   "metadata": {},
   "outputs": [],
   "source": [
    "def test_func( x):\n",
    "    return sum(map(lambda f: f(x), functions))\n",
    "A = 0\n",
    "B = 30\n",
    "N = 10\n",
    "\n",
    "test_x, good_y = cleaning(test_func, A, B, N)\n",
    "\n",
    "def test_func2(x):\n",
    "   \n",
    "    return sum(map(lambda f: f(x), functions[:funcs_amount]))\n",
    "\n",
    "for j in range(funcs_amount-1):\n",
    "    tmp_function = functions[j]\n",
    "    plt.plot(test_x, tmp_function(test_x), f'component {j}', show=False)\n",
    "\n",
    "plt.plot(test_x, functions[funcs_amount](test_x), f'component {funcs_amount}', show=True)\n",
    "plt.plot(test_x, good_y, 'cleaned data by fft')\n",
    "plt.plot(test_x, test_func2(test_x), 'right data without noise')\n",
    "\n"
   ]
  }
 ],
 "metadata": {
  "kernelspec": {
   "display_name": "Python 3",
   "language": "python",
   "name": "python3"
  },
  "language_info": {
   "codemirror_mode": {
    "name": "ipython",
    "version": 3
   },
   "file_extension": ".py",
   "mimetype": "text/x-python",
   "name": "python",
   "nbconvert_exporter": "python",
   "pygments_lexer": "ipython3",
   "version": "3.7.2"
  }
 },
 "nbformat": 4,
 "nbformat_minor": 2
}
